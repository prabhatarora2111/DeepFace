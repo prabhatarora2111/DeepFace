{
 "cells": [
  {
   "cell_type": "code",
   "execution_count": 1,
   "metadata": {},
   "outputs": [
    {
     "name": "stdout",
     "output_type": "stream",
     "text": [
      "Requirement already satisfied: deepface in /Users/prabhatarora/anaconda3/envs/myenv/lib/python3.11/site-packages (0.0.92)\n",
      "Requirement already satisfied: requests>=2.27.1 in /Users/prabhatarora/anaconda3/envs/myenv/lib/python3.11/site-packages (from deepface) (2.32.3)\n",
      "Requirement already satisfied: numpy>=1.14.0 in /Users/prabhatarora/anaconda3/envs/myenv/lib/python3.11/site-packages (from deepface) (1.24.3)\n",
      "Requirement already satisfied: pandas>=0.23.4 in /Users/prabhatarora/anaconda3/envs/myenv/lib/python3.11/site-packages (from deepface) (2.2.2)\n",
      "Requirement already satisfied: gdown>=3.10.1 in /Users/prabhatarora/anaconda3/envs/myenv/lib/python3.11/site-packages (from deepface) (5.2.0)\n",
      "Requirement already satisfied: tqdm>=4.30.0 in /Users/prabhatarora/anaconda3/envs/myenv/lib/python3.11/site-packages (from deepface) (4.66.4)\n",
      "Requirement already satisfied: Pillow>=5.2.0 in /Users/prabhatarora/anaconda3/envs/myenv/lib/python3.11/site-packages (from deepface) (10.3.0)\n",
      "Requirement already satisfied: opencv-python>=4.5.5.64 in /Users/prabhatarora/anaconda3/envs/myenv/lib/python3.11/site-packages (from deepface) (4.10.0.82)\n",
      "Requirement already satisfied: tensorflow>=1.9.0 in /Users/prabhatarora/anaconda3/envs/myenv/lib/python3.11/site-packages (from deepface) (2.16.1)\n",
      "Requirement already satisfied: keras>=2.2.0 in /Users/prabhatarora/anaconda3/envs/myenv/lib/python3.11/site-packages (from deepface) (3.3.3)\n",
      "Requirement already satisfied: Flask>=1.1.2 in /Users/prabhatarora/anaconda3/envs/myenv/lib/python3.11/site-packages (from deepface) (3.0.3)\n",
      "Requirement already satisfied: mtcnn>=0.1.0 in /Users/prabhatarora/anaconda3/envs/myenv/lib/python3.11/site-packages (from deepface) (0.1.1)\n",
      "Requirement already satisfied: retina-face>=0.0.1 in /Users/prabhatarora/anaconda3/envs/myenv/lib/python3.11/site-packages (from deepface) (0.0.17)\n",
      "Requirement already satisfied: fire>=0.4.0 in /Users/prabhatarora/anaconda3/envs/myenv/lib/python3.11/site-packages (from deepface) (0.6.0)\n",
      "Requirement already satisfied: gunicorn>=20.1.0 in /Users/prabhatarora/anaconda3/envs/myenv/lib/python3.11/site-packages (from deepface) (22.0.0)\n",
      "Requirement already satisfied: six in /Users/prabhatarora/anaconda3/envs/myenv/lib/python3.11/site-packages (from fire>=0.4.0->deepface) (1.16.0)\n",
      "Requirement already satisfied: termcolor in /Users/prabhatarora/anaconda3/envs/myenv/lib/python3.11/site-packages (from fire>=0.4.0->deepface) (2.4.0)\n",
      "Requirement already satisfied: Werkzeug>=3.0.0 in /Users/prabhatarora/anaconda3/envs/myenv/lib/python3.11/site-packages (from Flask>=1.1.2->deepface) (3.0.3)\n",
      "Requirement already satisfied: Jinja2>=3.1.2 in /Users/prabhatarora/anaconda3/envs/myenv/lib/python3.11/site-packages (from Flask>=1.1.2->deepface) (3.1.4)\n",
      "Requirement already satisfied: itsdangerous>=2.1.2 in /Users/prabhatarora/anaconda3/envs/myenv/lib/python3.11/site-packages (from Flask>=1.1.2->deepface) (2.2.0)\n",
      "Requirement already satisfied: click>=8.1.3 in /Users/prabhatarora/anaconda3/envs/myenv/lib/python3.11/site-packages (from Flask>=1.1.2->deepface) (8.1.7)\n",
      "Requirement already satisfied: blinker>=1.6.2 in /Users/prabhatarora/anaconda3/envs/myenv/lib/python3.11/site-packages (from Flask>=1.1.2->deepface) (1.8.2)\n",
      "Requirement already satisfied: beautifulsoup4 in /Users/prabhatarora/anaconda3/envs/myenv/lib/python3.11/site-packages (from gdown>=3.10.1->deepface) (4.12.3)\n",
      "Requirement already satisfied: filelock in /Users/prabhatarora/anaconda3/envs/myenv/lib/python3.11/site-packages (from gdown>=3.10.1->deepface) (3.14.0)\n",
      "Requirement already satisfied: packaging in /Users/prabhatarora/anaconda3/envs/myenv/lib/python3.11/site-packages (from gunicorn>=20.1.0->deepface) (24.0)\n",
      "Requirement already satisfied: absl-py in /Users/prabhatarora/anaconda3/envs/myenv/lib/python3.11/site-packages (from keras>=2.2.0->deepface) (2.1.0)\n",
      "Requirement already satisfied: rich in /Users/prabhatarora/anaconda3/envs/myenv/lib/python3.11/site-packages (from keras>=2.2.0->deepface) (13.7.1)\n",
      "Requirement already satisfied: namex in /Users/prabhatarora/anaconda3/envs/myenv/lib/python3.11/site-packages (from keras>=2.2.0->deepface) (0.0.8)\n",
      "Requirement already satisfied: h5py in /Users/prabhatarora/anaconda3/envs/myenv/lib/python3.11/site-packages (from keras>=2.2.0->deepface) (3.11.0)\n",
      "Requirement already satisfied: optree in /Users/prabhatarora/anaconda3/envs/myenv/lib/python3.11/site-packages (from keras>=2.2.0->deepface) (0.11.0)\n",
      "Requirement already satisfied: ml-dtypes in /Users/prabhatarora/anaconda3/envs/myenv/lib/python3.11/site-packages (from keras>=2.2.0->deepface) (0.3.2)\n",
      "Requirement already satisfied: python-dateutil>=2.8.2 in /Users/prabhatarora/anaconda3/envs/myenv/lib/python3.11/site-packages (from pandas>=0.23.4->deepface) (2.9.0)\n",
      "Requirement already satisfied: pytz>=2020.1 in /Users/prabhatarora/anaconda3/envs/myenv/lib/python3.11/site-packages (from pandas>=0.23.4->deepface) (2024.1)\n",
      "Requirement already satisfied: tzdata>=2022.7 in /Users/prabhatarora/anaconda3/envs/myenv/lib/python3.11/site-packages (from pandas>=0.23.4->deepface) (2024.1)\n",
      "Requirement already satisfied: charset-normalizer<4,>=2 in /Users/prabhatarora/anaconda3/envs/myenv/lib/python3.11/site-packages (from requests>=2.27.1->deepface) (3.3.2)\n",
      "Requirement already satisfied: idna<4,>=2.5 in /Users/prabhatarora/anaconda3/envs/myenv/lib/python3.11/site-packages (from requests>=2.27.1->deepface) (3.7)\n",
      "Requirement already satisfied: urllib3<3,>=1.21.1 in /Users/prabhatarora/anaconda3/envs/myenv/lib/python3.11/site-packages (from requests>=2.27.1->deepface) (2.2.1)\n",
      "Requirement already satisfied: certifi>=2017.4.17 in /Users/prabhatarora/anaconda3/envs/myenv/lib/python3.11/site-packages (from requests>=2.27.1->deepface) (2024.6.2)\n",
      "Requirement already satisfied: astunparse>=1.6.0 in /Users/prabhatarora/anaconda3/envs/myenv/lib/python3.11/site-packages (from tensorflow>=1.9.0->deepface) (1.6.3)\n",
      "Requirement already satisfied: flatbuffers>=23.5.26 in /Users/prabhatarora/anaconda3/envs/myenv/lib/python3.11/site-packages (from tensorflow>=1.9.0->deepface) (24.3.25)\n",
      "Requirement already satisfied: gast!=0.5.0,!=0.5.1,!=0.5.2,>=0.2.1 in /Users/prabhatarora/anaconda3/envs/myenv/lib/python3.11/site-packages (from tensorflow>=1.9.0->deepface) (0.4.0)\n",
      "Requirement already satisfied: google-pasta>=0.1.1 in /Users/prabhatarora/anaconda3/envs/myenv/lib/python3.11/site-packages (from tensorflow>=1.9.0->deepface) (0.2.0)\n",
      "Requirement already satisfied: libclang>=13.0.0 in /Users/prabhatarora/anaconda3/envs/myenv/lib/python3.11/site-packages (from tensorflow>=1.9.0->deepface) (18.1.1)\n",
      "Requirement already satisfied: opt-einsum>=2.3.2 in /Users/prabhatarora/anaconda3/envs/myenv/lib/python3.11/site-packages (from tensorflow>=1.9.0->deepface) (3.3.0)\n",
      "Requirement already satisfied: protobuf!=4.21.0,!=4.21.1,!=4.21.2,!=4.21.3,!=4.21.4,!=4.21.5,<5.0.0dev,>=3.20.3 in /Users/prabhatarora/anaconda3/envs/myenv/lib/python3.11/site-packages (from tensorflow>=1.9.0->deepface) (4.25.3)\n",
      "Requirement already satisfied: setuptools in /Users/prabhatarora/anaconda3/envs/myenv/lib/python3.11/site-packages (from tensorflow>=1.9.0->deepface) (69.5.1)\n",
      "Requirement already satisfied: typing-extensions>=3.6.6 in /Users/prabhatarora/anaconda3/envs/myenv/lib/python3.11/site-packages (from tensorflow>=1.9.0->deepface) (4.12.2)\n",
      "Requirement already satisfied: wrapt>=1.11.0 in /Users/prabhatarora/anaconda3/envs/myenv/lib/python3.11/site-packages (from tensorflow>=1.9.0->deepface) (1.16.0)\n",
      "Requirement already satisfied: grpcio<2.0,>=1.24.3 in /Users/prabhatarora/anaconda3/envs/myenv/lib/python3.11/site-packages (from tensorflow>=1.9.0->deepface) (1.64.1)\n",
      "Requirement already satisfied: tensorboard<2.17,>=2.16 in /Users/prabhatarora/anaconda3/envs/myenv/lib/python3.11/site-packages (from tensorflow>=1.9.0->deepface) (2.16.2)\n",
      "Requirement already satisfied: tensorflow-io-gcs-filesystem>=0.23.1 in /Users/prabhatarora/anaconda3/envs/myenv/lib/python3.11/site-packages (from tensorflow>=1.9.0->deepface) (0.37.0)\n",
      "Requirement already satisfied: wheel<1.0,>=0.23.0 in /Users/prabhatarora/anaconda3/envs/myenv/lib/python3.11/site-packages (from astunparse>=1.6.0->tensorflow>=1.9.0->deepface) (0.43.0)\n",
      "Requirement already satisfied: MarkupSafe>=2.0 in /Users/prabhatarora/anaconda3/envs/myenv/lib/python3.11/site-packages (from Jinja2>=3.1.2->Flask>=1.1.2->deepface) (2.1.5)\n",
      "Requirement already satisfied: markdown>=2.6.8 in /Users/prabhatarora/anaconda3/envs/myenv/lib/python3.11/site-packages (from tensorboard<2.17,>=2.16->tensorflow>=1.9.0->deepface) (3.6)\n",
      "Requirement already satisfied: tensorboard-data-server<0.8.0,>=0.7.0 in /Users/prabhatarora/anaconda3/envs/myenv/lib/python3.11/site-packages (from tensorboard<2.17,>=2.16->tensorflow>=1.9.0->deepface) (0.7.2)\n",
      "Requirement already satisfied: soupsieve>1.2 in /Users/prabhatarora/anaconda3/envs/myenv/lib/python3.11/site-packages (from beautifulsoup4->gdown>=3.10.1->deepface) (2.5)\n",
      "Requirement already satisfied: PySocks!=1.5.7,>=1.5.6 in /Users/prabhatarora/anaconda3/envs/myenv/lib/python3.11/site-packages (from requests[socks]->gdown>=3.10.1->deepface) (1.7.1)\n",
      "Requirement already satisfied: markdown-it-py>=2.2.0 in /Users/prabhatarora/anaconda3/envs/myenv/lib/python3.11/site-packages (from rich->keras>=2.2.0->deepface) (3.0.0)\n",
      "Requirement already satisfied: pygments<3.0.0,>=2.13.0 in /Users/prabhatarora/anaconda3/envs/myenv/lib/python3.11/site-packages (from rich->keras>=2.2.0->deepface) (2.18.0)\n",
      "Requirement already satisfied: mdurl~=0.1 in /Users/prabhatarora/anaconda3/envs/myenv/lib/python3.11/site-packages (from markdown-it-py>=2.2.0->rich->keras>=2.2.0->deepface) (0.1.2)\n"
     ]
    }
   ],
   "source": [
    "!pip install deepface"
   ]
  },
  {
   "cell_type": "code",
   "execution_count": 2,
   "metadata": {},
   "outputs": [],
   "source": [
    "from deepface import DeepFace"
   ]
  },
  {
   "cell_type": "code",
   "execution_count": 3,
   "metadata": {},
   "outputs": [],
   "source": [
    "import cv2"
   ]
  },
  {
   "cell_type": "code",
   "execution_count": 5,
   "metadata": {},
   "outputs": [],
   "source": [
    "img2 = cv2.imread(\"girlphoto.jpeg\")"
   ]
  },
  {
   "cell_type": "code",
   "execution_count": 6,
   "metadata": {},
   "outputs": [
    {
     "name": "stderr",
     "output_type": "stream",
     "text": [
      "Action: age:  25%|██▌       | 1/4 [00:02<00:07,  2.42s/it]    "
     ]
    },
    {
     "name": "stdout",
     "output_type": "stream",
     "text": [
      "24-06-13 12:59:40 - age_model_weights.h5 will be downloaded...\n"
     ]
    },
    {
     "name": "stderr",
     "output_type": "stream",
     "text": [
      "Downloading...\n",
      "From: https://github.com/serengil/deepface_models/releases/download/v1.0/age_model_weights.h5\n",
      "To: /Users/prabhatarora/.deepface/weights/age_model_weights.h5\n",
      "100%|██████████| 539M/539M [01:45<00:00, 5.09MB/s]\n",
      "Action: gender:  50%|█████     | 2/4 [01:51<02:10, 65.27s/it]"
     ]
    },
    {
     "name": "stdout",
     "output_type": "stream",
     "text": [
      "24-06-13 13:01:29 - gender_model_weights.h5 will be downloaded...\n"
     ]
    },
    {
     "name": "stderr",
     "output_type": "stream",
     "text": [
      "Downloading...\n",
      "From: https://github.com/serengil/deepface_models/releases/download/v1.0/gender_model_weights.h5\n",
      "To: /Users/prabhatarora/.deepface/weights/gender_model_weights.h5\n",
      "100%|██████████| 537M/537M [01:59<00:00, 4.49MB/s]\n",
      "Action: race:  75%|███████▌  | 3/4 [03:57<01:32, 92.91s/it]  "
     ]
    },
    {
     "name": "stdout",
     "output_type": "stream",
     "text": [
      "24-06-13 13:03:35 - race_model_single_batch.h5 will be downloaded...\n"
     ]
    },
    {
     "name": "stderr",
     "output_type": "stream",
     "text": [
      "Downloading...\n",
      "From: https://github.com/serengil/deepface_models/releases/download/v1.0/race_model_single_batch.h5\n",
      "To: /Users/prabhatarora/.deepface/weights/race_model_single_batch.h5\n",
      "100%|██████████| 537M/537M [01:58<00:00, 4.53MB/s]\n",
      "Action: race: 100%|██████████| 4/4 [06:03<00:00, 90.75s/it] \n"
     ]
    }
   ],
   "source": [
    "analysis = DeepFace.analyze(img2)"
   ]
  },
  {
   "cell_type": "code",
   "execution_count": 7,
   "metadata": {},
   "outputs": [
    {
     "data": {
      "text/plain": [
       "[{'emotion': {'angry': 10.955973714590073,\n",
       "   'disgust': 0.00019887959297193447,\n",
       "   'fear': 19.58695501089096,\n",
       "   'happy': 1.4853338825560058e-05,\n",
       "   'sad': 1.6610516235232353,\n",
       "   'surprise': 0.010415176075184718,\n",
       "   'neutral': 67.78538823127747},\n",
       "  'dominant_emotion': 'neutral',\n",
       "  'region': {'x': 510,\n",
       "   'y': 177,\n",
       "   'w': 462,\n",
       "   'h': 462,\n",
       "   'left_eye': (825, 348),\n",
       "   'right_eye': (673, 340)},\n",
       "  'face_confidence': 0.93,\n",
       "  'age': 21,\n",
       "  'gender': {'Woman': 80.22911548614502, 'Man': 19.770880043506622},\n",
       "  'dominant_gender': 'Woman',\n",
       "  'race': {'asian': 6.472600996494293,\n",
       "   'indian': 2.673378773033619,\n",
       "   'black': 0.43684658594429493,\n",
       "   'white': 37.101536989212036,\n",
       "   'middle eastern': 19.476164877414703,\n",
       "   'latino hispanic': 33.83946716785431},\n",
       "  'dominant_race': 'white'}]"
      ]
     },
     "execution_count": 7,
     "metadata": {},
     "output_type": "execute_result"
    }
   ],
   "source": [
    "analysis"
   ]
  },
  {
   "cell_type": "code",
   "execution_count": 8,
   "metadata": {},
   "outputs": [],
   "source": [
    "img  = cv2.imread('happyboy.webp')"
   ]
  },
  {
   "cell_type": "code",
   "execution_count": 9,
   "metadata": {},
   "outputs": [
    {
     "name": "stderr",
     "output_type": "stream",
     "text": [
      "Action: race: 100%|██████████| 4/4 [00:00<00:00,  6.18it/s]  \n"
     ]
    }
   ],
   "source": [
    "analysis2 = DeepFace.analyze(img)"
   ]
  },
  {
   "cell_type": "code",
   "execution_count": 10,
   "metadata": {},
   "outputs": [
    {
     "data": {
      "text/plain": [
       "[{'emotion': {'angry': 0.6798533377971246,\n",
       "   'disgust': 0.0001787672104625237,\n",
       "   'fear': 28.771596697378552,\n",
       "   'happy': 69.86372830108067,\n",
       "   'sad': 0.030992126937962838,\n",
       "   'surprise': 0.05637756458825593,\n",
       "   'neutral': 0.5972652915399919},\n",
       "  'dominant_emotion': 'happy',\n",
       "  'region': {'x': 133,\n",
       "   'y': 134,\n",
       "   'w': 83,\n",
       "   'h': 83,\n",
       "   'left_eye': None,\n",
       "   'right_eye': None},\n",
       "  'face_confidence': 0.96,\n",
       "  'age': 31,\n",
       "  'gender': {'Woman': 6.002730131149292, 'Man': 93.99726986885071},\n",
       "  'dominant_gender': 'Man',\n",
       "  'race': {'asian': 99.38705559891794,\n",
       "   'indian': 0.133667137524762,\n",
       "   'black': 0.007126028928734224,\n",
       "   'white': 0.01693270415644447,\n",
       "   'middle eastern': 0.00037468412261232396,\n",
       "   'latino hispanic': 0.4548396254980341},\n",
       "  'dominant_race': 'asian'}]"
      ]
     },
     "execution_count": 10,
     "metadata": {},
     "output_type": "execute_result"
    }
   ],
   "source": [
    "analysis2"
   ]
  },
  {
   "cell_type": "code",
   "execution_count": null,
   "metadata": {},
   "outputs": [],
   "source": []
  }
 ],
 "metadata": {
  "kernelspec": {
   "display_name": "myenv",
   "language": "python",
   "name": "python3"
  },
  "language_info": {
   "codemirror_mode": {
    "name": "ipython",
    "version": 3
   },
   "file_extension": ".py",
   "mimetype": "text/x-python",
   "name": "python",
   "nbconvert_exporter": "python",
   "pygments_lexer": "ipython3",
   "version": "3.11.9"
  }
 },
 "nbformat": 4,
 "nbformat_minor": 2
}
